{
  "cells": [
    {
      "cell_type": "markdown",
      "metadata": {
        "id": "view-in-github",
        "colab_type": "text"
      },
      "source": [
        "<a href=\"https://colab.research.google.com/github/scott-cjx/1015-Project/blob/main/1015_WeatherTaxi.ipynb\" target=\"_parent\"><img src=\"https://colab.research.google.com/assets/colab-badge.svg\" alt=\"Open In Colab\"/></a>"
      ]
    },
    {
      "cell_type": "markdown",
      "metadata": {
        "id": "KfzVozrJEtVm"
      },
      "source": []
    },
    {
      "cell_type": "code",
      "execution_count": 1,
      "metadata": {
        "id": "Tu4T0eGO3Xvt"
      },
      "outputs": [],
      "source": [
        "import pandas as pd\n",
        "import numpy as np\n",
        "import seaborn as sb\n",
        "import matplotlib.pyplot as plt\n",
        "from datetime import datetime\n",
        "import requests"
      ]
    },
    {
      "cell_type": "code",
      "execution_count": null,
      "metadata": {
        "colab": {
          "base_uri": "https://localhost:8080/",
          "height": 304
        },
        "id": "dTm3Y60zpetx",
        "outputId": "68e06920-c0b2-42e8-bc4b-eecd12911e16"
      },
      "outputs": [
        {
          "output_type": "error",
          "ename": "MessageError",
          "evalue": "Error: credential propagation was unsuccessful",
          "traceback": [
            "\u001b[0;31m---------------------------------------------------------------------------\u001b[0m",
            "\u001b[0;31mMessageError\u001b[0m                              Traceback (most recent call last)",
            "\u001b[0;32m<ipython-input-6-d5df0069828e>\u001b[0m in \u001b[0;36m<cell line: 2>\u001b[0;34m()\u001b[0m\n\u001b[1;32m      1\u001b[0m \u001b[0;32mfrom\u001b[0m \u001b[0mgoogle\u001b[0m\u001b[0;34m.\u001b[0m\u001b[0mcolab\u001b[0m \u001b[0;32mimport\u001b[0m \u001b[0mdrive\u001b[0m\u001b[0;34m\u001b[0m\u001b[0;34m\u001b[0m\u001b[0m\n\u001b[0;32m----> 2\u001b[0;31m \u001b[0mdrive\u001b[0m\u001b[0;34m.\u001b[0m\u001b[0mmount\u001b[0m\u001b[0;34m(\u001b[0m\u001b[0;34m'/content/drive'\u001b[0m\u001b[0;34m)\u001b[0m\u001b[0;34m\u001b[0m\u001b[0;34m\u001b[0m\u001b[0m\n\u001b[0m",
            "\u001b[0;32m/usr/local/lib/python3.10/dist-packages/google/colab/drive.py\u001b[0m in \u001b[0;36mmount\u001b[0;34m(mountpoint, force_remount, timeout_ms, readonly)\u001b[0m\n\u001b[1;32m     98\u001b[0m \u001b[0;32mdef\u001b[0m \u001b[0mmount\u001b[0m\u001b[0;34m(\u001b[0m\u001b[0mmountpoint\u001b[0m\u001b[0;34m,\u001b[0m \u001b[0mforce_remount\u001b[0m\u001b[0;34m=\u001b[0m\u001b[0;32mFalse\u001b[0m\u001b[0;34m,\u001b[0m \u001b[0mtimeout_ms\u001b[0m\u001b[0;34m=\u001b[0m\u001b[0;36m120000\u001b[0m\u001b[0;34m,\u001b[0m \u001b[0mreadonly\u001b[0m\u001b[0;34m=\u001b[0m\u001b[0;32mFalse\u001b[0m\u001b[0;34m)\u001b[0m\u001b[0;34m:\u001b[0m\u001b[0;34m\u001b[0m\u001b[0;34m\u001b[0m\u001b[0m\n\u001b[1;32m     99\u001b[0m   \u001b[0;34m\"\"\"Mount your Google Drive at the specified mountpoint path.\"\"\"\u001b[0m\u001b[0;34m\u001b[0m\u001b[0;34m\u001b[0m\u001b[0m\n\u001b[0;32m--> 100\u001b[0;31m   return _mount(\n\u001b[0m\u001b[1;32m    101\u001b[0m       \u001b[0mmountpoint\u001b[0m\u001b[0;34m,\u001b[0m\u001b[0;34m\u001b[0m\u001b[0;34m\u001b[0m\u001b[0m\n\u001b[1;32m    102\u001b[0m       \u001b[0mforce_remount\u001b[0m\u001b[0;34m=\u001b[0m\u001b[0mforce_remount\u001b[0m\u001b[0;34m,\u001b[0m\u001b[0;34m\u001b[0m\u001b[0;34m\u001b[0m\u001b[0m\n",
            "\u001b[0;32m/usr/local/lib/python3.10/dist-packages/google/colab/drive.py\u001b[0m in \u001b[0;36m_mount\u001b[0;34m(mountpoint, force_remount, timeout_ms, ephemeral, readonly)\u001b[0m\n\u001b[1;32m    131\u001b[0m   )\n\u001b[1;32m    132\u001b[0m   \u001b[0;32mif\u001b[0m \u001b[0mephemeral\u001b[0m\u001b[0;34m:\u001b[0m\u001b[0;34m\u001b[0m\u001b[0;34m\u001b[0m\u001b[0m\n\u001b[0;32m--> 133\u001b[0;31m     _message.blocking_request(\n\u001b[0m\u001b[1;32m    134\u001b[0m         \u001b[0;34m'request_auth'\u001b[0m\u001b[0;34m,\u001b[0m \u001b[0mrequest\u001b[0m\u001b[0;34m=\u001b[0m\u001b[0;34m{\u001b[0m\u001b[0;34m'authType'\u001b[0m\u001b[0;34m:\u001b[0m \u001b[0;34m'dfs_ephemeral'\u001b[0m\u001b[0;34m}\u001b[0m\u001b[0;34m,\u001b[0m \u001b[0mtimeout_sec\u001b[0m\u001b[0;34m=\u001b[0m\u001b[0;32mNone\u001b[0m\u001b[0;34m\u001b[0m\u001b[0;34m\u001b[0m\u001b[0m\n\u001b[1;32m    135\u001b[0m     )\n",
            "\u001b[0;32m/usr/local/lib/python3.10/dist-packages/google/colab/_message.py\u001b[0m in \u001b[0;36mblocking_request\u001b[0;34m(request_type, request, timeout_sec, parent)\u001b[0m\n\u001b[1;32m    174\u001b[0m       \u001b[0mrequest_type\u001b[0m\u001b[0;34m,\u001b[0m \u001b[0mrequest\u001b[0m\u001b[0;34m,\u001b[0m \u001b[0mparent\u001b[0m\u001b[0;34m=\u001b[0m\u001b[0mparent\u001b[0m\u001b[0;34m,\u001b[0m \u001b[0mexpect_reply\u001b[0m\u001b[0;34m=\u001b[0m\u001b[0;32mTrue\u001b[0m\u001b[0;34m\u001b[0m\u001b[0;34m\u001b[0m\u001b[0m\n\u001b[1;32m    175\u001b[0m   )\n\u001b[0;32m--> 176\u001b[0;31m   \u001b[0;32mreturn\u001b[0m \u001b[0mread_reply_from_input\u001b[0m\u001b[0;34m(\u001b[0m\u001b[0mrequest_id\u001b[0m\u001b[0;34m,\u001b[0m \u001b[0mtimeout_sec\u001b[0m\u001b[0;34m)\u001b[0m\u001b[0;34m\u001b[0m\u001b[0;34m\u001b[0m\u001b[0m\n\u001b[0m",
            "\u001b[0;32m/usr/local/lib/python3.10/dist-packages/google/colab/_message.py\u001b[0m in \u001b[0;36mread_reply_from_input\u001b[0;34m(message_id, timeout_sec)\u001b[0m\n\u001b[1;32m    101\u001b[0m     ):\n\u001b[1;32m    102\u001b[0m       \u001b[0;32mif\u001b[0m \u001b[0;34m'error'\u001b[0m \u001b[0;32min\u001b[0m \u001b[0mreply\u001b[0m\u001b[0;34m:\u001b[0m\u001b[0;34m\u001b[0m\u001b[0;34m\u001b[0m\u001b[0m\n\u001b[0;32m--> 103\u001b[0;31m         \u001b[0;32mraise\u001b[0m \u001b[0mMessageError\u001b[0m\u001b[0;34m(\u001b[0m\u001b[0mreply\u001b[0m\u001b[0;34m[\u001b[0m\u001b[0;34m'error'\u001b[0m\u001b[0;34m]\u001b[0m\u001b[0;34m)\u001b[0m\u001b[0;34m\u001b[0m\u001b[0;34m\u001b[0m\u001b[0m\n\u001b[0m\u001b[1;32m    104\u001b[0m       \u001b[0;32mreturn\u001b[0m \u001b[0mreply\u001b[0m\u001b[0;34m.\u001b[0m\u001b[0mget\u001b[0m\u001b[0;34m(\u001b[0m\u001b[0;34m'data'\u001b[0m\u001b[0;34m,\u001b[0m \u001b[0;32mNone\u001b[0m\u001b[0;34m)\u001b[0m\u001b[0;34m\u001b[0m\u001b[0;34m\u001b[0m\u001b[0m\n\u001b[1;32m    105\u001b[0m \u001b[0;34m\u001b[0m\u001b[0m\n",
            "\u001b[0;31mMessageError\u001b[0m: Error: credential propagation was unsuccessful"
          ]
        }
      ],
      "source": [
        "from google.colab import drive\n",
        "drive.mount('/content/drive')"
      ]
    },
    {
      "cell_type": "code",
      "execution_count": null,
      "metadata": {
        "id": "3Don2WvAGRn8"
      },
      "outputs": [],
      "source": [
        "def get_taxi_avail():\n",
        "  url = \"https://api.data.gov.sg/v1/transport/taxi-availability\"\n",
        "\n",
        "  # Send request and get response\n",
        "  response = requests.get(url)\n",
        "\n",
        "  if response.status_code != 200:\n",
        "    return\n",
        "\n",
        "  # Parse JSON data\n",
        "  data = response.json()\n",
        "\n",
        "  data_coordinates = data['features'][0]['geometry']['coordinates']\n",
        "  df_coordinates = pd.DataFrame(data_coordinates)\n",
        "  df_coordinates.columns = [\"LONGITUDE\", \"LATITUDE\"]\n",
        "\n",
        "  ts = data['features'][0]['properties']['timestamp']\n",
        "  dt_object = datetime.fromisoformat(ts)\n",
        "\n",
        "  ts_date = dt_object.date()\n",
        "  ts_time = dt_object.time()\n",
        "  df_coordinates[\"DATE\"] = ts_date\n",
        "  df_coordinates[\"TIME\"] = ts_time\n",
        "\n",
        "  return df_coordinates\n",
        "\n",
        "# taxi_avail = get_taxi_avail()"
      ]
    },
    {
      "cell_type": "code",
      "execution_count": null,
      "metadata": {
        "id": "TqVHYYUoOPKl"
      },
      "outputs": [],
      "source": [
        "def get_area_meta():\n",
        "  url = 'https://api.data.gov.sg/v1/environment/2-hour-weather-forecast'\n",
        "\n",
        "  # Send request and get response\n",
        "  response = requests.get(url)\n",
        "\n",
        "  if response.status_code != 200:\n",
        "    return\n",
        "\n",
        "  # Parse JSON data\n",
        "  data = response.json()\n",
        "  data_areameta = data['area_metadata']\n",
        "  df = pd.DataFrame(data_areameta)\n",
        "  latitude_values = df['label_location'].apply(lambda x: x['latitude'])\n",
        "  df['LATITUDE'] = latitude_values\n",
        "  longitude_values = df['label_location'].apply(lambda x: x['longitude'])\n",
        "  df['LONGITUDE'] = longitude_values\n",
        "  df = df.drop(columns=['label_location'])\n",
        "\n",
        "  return df\n",
        "\n",
        "# get_area_meta()"
      ]
    },
    {
      "cell_type": "code",
      "execution_count": null,
      "metadata": {
        "id": "Bv_GVvn03btf"
      },
      "outputs": [],
      "source": [
        "def get_weather():\n",
        "  url = 'https://api.data.gov.sg/v1/environment/2-hour-weather-forecast'\n",
        "\n",
        "  # Send request and get response\n",
        "  response = requests.get(url)\n",
        "\n",
        "  if response.status_code != 200:\n",
        "    return\n",
        "\n",
        "  # Parse JSON data\n",
        "  data = response.json()\n",
        "\n",
        "  data_weather = data['items'][0]['forecasts']\n",
        "  df = pd.DataFrame(data_weather)\n",
        "  df.columns = [\"AREA\", \"FORECAST\"]\n",
        "\n",
        "  ts = data['items'][0]['timestamp']\n",
        "  df['timestamp'] = ts\n",
        "  upd_ts = data['items'][0]['update_timestamp']\n",
        "  df['update_timestamp'] = upd_ts\n",
        "  valid_start_ts = data['items'][0]['valid_period']['start']\n",
        "  df['valid_start'] = valid_start_ts\n",
        "  valid_end_ts = data['items'][0]['valid_period']['end']\n",
        "  df['valid_end'] = valid_end_ts\n",
        "\n",
        "  return df\n",
        "\n",
        "# get_weather()"
      ]
    },
    {
      "cell_type": "code",
      "execution_count": null,
      "metadata": {
        "id": "a27YbKAgUk0G"
      },
      "outputs": [],
      "source": [
        "import os\n",
        "\n",
        "def append_pkl(pkl_fp, to_add_df):\n",
        "  try:\n",
        "    df = pd.read_pickle(pkl_fp)\n",
        "  except FileNotFoundError:\n",
        "    df = pd.DataFrame()\n",
        "\n",
        "  df = pd.concat([df, to_add_df], ignore_index=True)\n",
        "  df.to_pickle(pkl_fp)\n",
        "\n",
        "def read_pkl(pkl_fp):\n",
        "  df = pd.read_pickle(pkl_fp)\n",
        "  return df\n"
      ]
    },
    {
      "cell_type": "code",
      "execution_count": null,
      "metadata": {
        "id": "Nrwsm_rzFTUQ"
      },
      "outputs": [],
      "source": [
        "# append_pkl(\"taxi_log.pkl\", get_taxi_avail())"
      ]
    },
    {
      "cell_type": "code",
      "execution_count": null,
      "metadata": {
        "id": "8qGJxlc4Fb1E"
      },
      "outputs": [],
      "source": [
        "read_pkl(\"taxi_log.pkl\").head()"
      ]
    },
    {
      "cell_type": "code",
      "execution_count": null,
      "metadata": {
        "id": "utUi73SXowyU"
      },
      "outputs": [],
      "source": [
        "# append_pkl(\"weather_log.pkl\", get_weather())"
      ]
    },
    {
      "cell_type": "markdown",
      "metadata": {
        "id": "G8fFpvmEeHur"
      },
      "source": []
    },
    {
      "cell_type": "code",
      "execution_count": null,
      "metadata": {
        "id": "klPk5-yapcTk"
      },
      "outputs": [],
      "source": [
        "weather_df = read_pkl(\"weather_log.pkl\")"
      ]
    },
    {
      "cell_type": "code",
      "execution_count": null,
      "metadata": {
        "id": "NGY8YhgbebB2"
      },
      "outputs": [],
      "source": []
    },
    {
      "cell_type": "code",
      "execution_count": null,
      "metadata": {
        "id": "KSU5apDrem4s"
      },
      "outputs": [],
      "source": [
        "print(\"f\")"
      ]
    },
    {
      "cell_type": "markdown",
      "metadata": {
        "id": "HyKL0koOFRf1"
      },
      "source": [
        "Clean both datasets\n"
      ]
    },
    {
      "cell_type": "code",
      "execution_count": null,
      "metadata": {
        "id": "xe0GzJh_FqSm"
      },
      "outputs": [],
      "source": []
    },
    {
      "cell_type": "markdown",
      "metadata": {
        "id": "XD5ZZ-r6FYYo"
      },
      "source": [
        "Function to convert coordinates to x y\n"
      ]
    },
    {
      "cell_type": "code",
      "execution_count": null,
      "metadata": {
        "id": "TWW0rInnFqxa"
      },
      "outputs": [],
      "source": []
    },
    {
      "cell_type": "markdown",
      "metadata": {
        "id": "ZPV8eAj5Femj"
      },
      "source": [
        "Classify to area zones (find closest zone and classify)"
      ]
    },
    {
      "cell_type": "code",
      "execution_count": null,
      "metadata": {
        "id": "_zfObgytjaYz"
      },
      "outputs": [],
      "source": [
        "!pip install haversine"
      ]
    },
    {
      "cell_type": "code",
      "execution_count": null,
      "metadata": {
        "id": "YDCgAM-1FT14"
      },
      "outputs": [],
      "source": [
        "import haversine as hs;\n",
        "def get_zone(longitude, latitude):\n",
        "  position = (latitude, longitude)\n",
        "\n",
        "  area_metadata = [\n",
        "    {\n",
        "      \"name\": \"Ang Mo Kio\",\n",
        "      \"label_location\": {\n",
        "        \"latitude\": 1.375,\n",
        "        \"longitude\": 103.839\n",
        "      }\n",
        "    },\n",
        "    {\n",
        "      \"name\": \"Bedok\",\n",
        "      \"label_location\": {\n",
        "        \"latitude\": 1.321,\n",
        "        \"longitude\": 103.924\n",
        "      }\n",
        "    },\n",
        "    {\n",
        "      \"name\": \"Bishan\",\n",
        "      \"label_location\": {\n",
        "        \"latitude\": 1.350772,\n",
        "        \"longitude\": 103.839\n",
        "      }\n",
        "    },\n",
        "    {\n",
        "      \"name\": \"Boon Lay\",\n",
        "      \"label_location\": {\n",
        "        \"latitude\": 1.304,\n",
        "        \"longitude\": 103.701\n",
        "      }\n",
        "    },\n",
        "    {\n",
        "      \"name\": \"Bukit Batok\",\n",
        "      \"label_location\": {\n",
        "        \"latitude\": 1.353,\n",
        "        \"longitude\": 103.754\n",
        "      }\n",
        "    },\n",
        "    {\n",
        "      \"name\": \"Bukit Merah\",\n",
        "      \"label_location\": {\n",
        "        \"latitude\": 1.277,\n",
        "        \"longitude\": 103.819\n",
        "      }\n",
        "    },\n",
        "    {\n",
        "      \"name\": \"Bukit Panjang\",\n",
        "      \"label_location\": {\n",
        "        \"latitude\": 1.362,\n",
        "        \"longitude\": 103.77195\n",
        "      }\n",
        "    },\n",
        "    {\n",
        "      \"name\": \"Bukit Timah\",\n",
        "      \"label_location\": {\n",
        "        \"latitude\": 1.325,\n",
        "        \"longitude\": 103.791\n",
        "      }\n",
        "    },\n",
        "    {\n",
        "      \"name\": \"Central Water Catchment\",\n",
        "      \"label_location\": {\n",
        "        \"latitude\": 1.38,\n",
        "        \"longitude\": 103.805\n",
        "      }\n",
        "    },\n",
        "    {\n",
        "      \"name\": \"Changi\",\n",
        "      \"label_location\": {\n",
        "        \"latitude\": 1.357,\n",
        "        \"longitude\": 103.987\n",
        "      }\n",
        "    },\n",
        "    {\n",
        "      \"name\": \"Choa Chu Kang\",\n",
        "      \"label_location\": {\n",
        "        \"latitude\": 1.377,\n",
        "        \"longitude\": 103.745\n",
        "      }\n",
        "    },\n",
        "    {\n",
        "      \"name\": \"Clementi\",\n",
        "      \"label_location\": {\n",
        "        \"latitude\": 1.315,\n",
        "        \"longitude\": 103.76\n",
        "      }\n",
        "    },\n",
        "    {\n",
        "      \"name\": \"City\",\n",
        "      \"label_location\": {\n",
        "        \"latitude\": 1.292,\n",
        "        \"longitude\": 103.844\n",
        "      }\n",
        "    },\n",
        "    {\n",
        "      \"name\": \"Geylang\",\n",
        "      \"label_location\": {\n",
        "        \"latitude\": 1.318,\n",
        "        \"longitude\": 103.884\n",
        "      }\n",
        "    },\n",
        "    {\n",
        "      \"name\": \"Hougang\",\n",
        "      \"label_location\": {\n",
        "        \"latitude\": 1.361218,\n",
        "        \"longitude\": 103.886\n",
        "      }\n",
        "    },\n",
        "    {\n",
        "      \"name\": \"Jalan Bahar\",\n",
        "      \"label_location\": {\n",
        "        \"latitude\": 1.347,\n",
        "        \"longitude\": 103.67\n",
        "      }\n",
        "    },\n",
        "    {\n",
        "      \"name\": \"Jurong East\",\n",
        "      \"label_location\": {\n",
        "        \"latitude\": 1.326,\n",
        "        \"longitude\": 103.737\n",
        "      }\n",
        "    },\n",
        "    {\n",
        "      \"name\": \"Jurong Island\",\n",
        "      \"label_location\": {\n",
        "        \"latitude\": 1.266,\n",
        "        \"longitude\": 103.699\n",
        "      }\n",
        "    },\n",
        "    {\n",
        "      \"name\": \"Jurong West\",\n",
        "      \"label_location\": {\n",
        "        \"latitude\": 1.34039,\n",
        "        \"longitude\": 103.705\n",
        "      }\n",
        "    },\n",
        "    {\n",
        "      \"name\": \"Kallang\",\n",
        "      \"label_location\": {\n",
        "        \"latitude\": 1.312,\n",
        "        \"longitude\": 103.862\n",
        "      }\n",
        "    },\n",
        "    {\n",
        "      \"name\": \"Lim Chu Kang\",\n",
        "      \"label_location\": {\n",
        "        \"latitude\": 1.423,\n",
        "        \"longitude\": 103.717332\n",
        "      }\n",
        "    },\n",
        "    {\n",
        "      \"name\": \"Mandai\",\n",
        "      \"label_location\": {\n",
        "        \"latitude\": 1.419,\n",
        "        \"longitude\": 103.812\n",
        "      }\n",
        "    },\n",
        "    {\n",
        "      \"name\": \"Marine Parade\",\n",
        "      \"label_location\": {\n",
        "        \"latitude\": 1.297,\n",
        "        \"longitude\": 103.891\n",
        "      }\n",
        "    },\n",
        "    {\n",
        "      \"name\": \"Novena\",\n",
        "      \"label_location\": {\n",
        "        \"latitude\": 1.327,\n",
        "        \"longitude\": 103.826\n",
        "      }\n",
        "    },\n",
        "    {\n",
        "      \"name\": \"Pasir Ris\",\n",
        "      \"label_location\": {\n",
        "        \"latitude\": 1.37,\n",
        "        \"longitude\": 103.948\n",
        "      }\n",
        "    },\n",
        "    {\n",
        "      \"name\": \"Paya Lebar\",\n",
        "      \"label_location\": {\n",
        "        \"latitude\": 1.358,\n",
        "        \"longitude\": 103.914\n",
        "      }\n",
        "    },\n",
        "    {\n",
        "      \"name\": \"Pioneer\",\n",
        "      \"label_location\": {\n",
        "        \"latitude\": 1.315,\n",
        "        \"longitude\": 103.675\n",
        "      }\n",
        "    },\n",
        "    {\n",
        "      \"name\": \"Pulau Tekong\",\n",
        "      \"label_location\": {\n",
        "        \"latitude\": 1.403,\n",
        "        \"longitude\": 104.053\n",
        "      }\n",
        "    },\n",
        "    {\n",
        "      \"name\": \"Pulau Ubin\",\n",
        "      \"label_location\": {\n",
        "        \"latitude\": 1.404,\n",
        "        \"longitude\": 103.96\n",
        "      }\n",
        "    },\n",
        "    {\n",
        "      \"name\": \"Punggol\",\n",
        "      \"label_location\": {\n",
        "        \"latitude\": 1.401,\n",
        "        \"longitude\": 103.904\n",
        "      }\n",
        "    },\n",
        "    {\n",
        "      \"name\": \"Queenstown\",\n",
        "      \"label_location\": {\n",
        "        \"latitude\": 1.291,\n",
        "        \"longitude\": 103.78576\n",
        "      }\n",
        "    },\n",
        "    {\n",
        "      \"name\": \"Seletar\",\n",
        "      \"label_location\": {\n",
        "        \"latitude\": 1.404,\n",
        "        \"longitude\": 103.869\n",
        "      }\n",
        "    },\n",
        "    {\n",
        "      \"name\": \"Sembawang\",\n",
        "      \"label_location\": {\n",
        "        \"latitude\": 1.445,\n",
        "        \"longitude\": 103.818495\n",
        "      }\n",
        "    },\n",
        "    {\n",
        "      \"name\": \"Sengkang\",\n",
        "      \"label_location\": {\n",
        "        \"latitude\": 1.384,\n",
        "        \"longitude\": 103.891443\n",
        "      }\n",
        "    },\n",
        "    {\n",
        "      \"name\": \"Sentosa\",\n",
        "      \"label_location\": {\n",
        "        \"latitude\": 1.243,\n",
        "        \"longitude\": 103.832\n",
        "      }\n",
        "    },\n",
        "    {\n",
        "      \"name\": \"Serangoon\",\n",
        "      \"label_location\": {\n",
        "        \"latitude\": 1.357,\n",
        "        \"longitude\": 103.865\n",
        "      }\n",
        "    },\n",
        "    {\n",
        "      \"name\": \"Southern Islands\",\n",
        "      \"label_location\": {\n",
        "        \"latitude\": 1.208,\n",
        "        \"longitude\": 103.842\n",
        "      }\n",
        "    },\n",
        "    {\n",
        "      \"name\": \"Sungei Kadut\",\n",
        "      \"label_location\": {\n",
        "        \"latitude\": 1.413,\n",
        "        \"longitude\": 103.756\n",
        "      }\n",
        "    },\n",
        "    {\n",
        "      \"name\": \"Tampines\",\n",
        "      \"label_location\": {\n",
        "        \"latitude\": 1.345,\n",
        "        \"longitude\": 103.944\n",
        "      }\n",
        "    },\n",
        "    {\n",
        "      \"name\": \"Tanglin\",\n",
        "      \"label_location\": {\n",
        "        \"latitude\": 1.308,\n",
        "        \"longitude\": 103.813\n",
        "      }\n",
        "    },\n",
        "    {\n",
        "      \"name\": \"Tengah\",\n",
        "      \"label_location\": {\n",
        "        \"latitude\": 1.374,\n",
        "        \"longitude\": 103.715\n",
        "      }\n",
        "    },\n",
        "    {\n",
        "      \"name\": \"Toa Payoh\",\n",
        "      \"label_location\": {\n",
        "        \"latitude\": 1.334304,\n",
        "        \"longitude\": 103.856327\n",
        "      }\n",
        "    },\n",
        "    {\n",
        "      \"name\": \"Tuas\",\n",
        "      \"label_location\": {\n",
        "        \"latitude\": 1.294947,\n",
        "        \"longitude\": 103.635\n",
        "      }\n",
        "    },\n",
        "    {\n",
        "      \"name\": \"Western Islands\",\n",
        "      \"label_location\": {\n",
        "        \"latitude\": 1.205926,\n",
        "        \"longitude\": 103.746\n",
        "      }\n",
        "    },\n",
        "    {\n",
        "      \"name\": \"Western Water Catchment\",\n",
        "      \"label_location\": {\n",
        "        \"latitude\": 1.405,\n",
        "        \"longitude\": 103.689\n",
        "      }\n",
        "    },\n",
        "    {\n",
        "      \"name\": \"Woodlands\",\n",
        "      \"label_location\": {\n",
        "        \"latitude\": 1.432,\n",
        "        \"longitude\": 103.786528\n",
        "      }\n",
        "    },\n",
        "    {\n",
        "      \"name\": \"Yishun\",\n",
        "      \"label_location\": {\n",
        "        \"latitude\": 1.418,\n",
        "        \"longitude\": 103.839\n",
        "      }\n",
        "    }\n",
        "  ]\n",
        "\n",
        "  shortest_dist = {\"Area\": \"NULL\", \"Distance\": 6000000}\n",
        "\n",
        "  for zone in area_metadata:\n",
        "    compare = (zone['label_location']['latitude'], zone['label_location']['longitude'])\n",
        "    dist = hs.haversine(compare, position)\n",
        "    #See if it is the shortest distance\n",
        "    if dist < shortest_dist['Distance']:\n",
        "      shortest_dist['Area'] = zone['name']\n",
        "      shortest_dist['Distance'] = dist\n",
        "\n",
        "  return shortest_dist['Area']\n",
        "\n",
        "#get_zone(103.998676,1.328944)"
      ]
    },
    {
      "cell_type": "markdown",
      "metadata": {
        "id": "y77PoqAWp7zB"
      },
      "source": [
        "Add Zones to Taxi Df"
      ]
    },
    {
      "cell_type": "code",
      "execution_count": null,
      "metadata": {
        "id": "9rt5-k6QqB3l"
      },
      "outputs": [],
      "source": [
        "#Read Taxi pkl file\n",
        "taxi_df = read_pkl(\"taxi_log.pkl\")\n",
        "\n",
        "def load_taxi_zones():\n",
        "  taxi_df['Zone'] = taxi_df.apply(lambda row: get_zone(row['LONGITUDE'], row['LATITUDE']), axis=1)\n",
        "  return taxi_df\n",
        "\n",
        "#Add Locaiton Zones to dataframe\n",
        "taxi_df = load_taxi_zones()"
      ]
    },
    {
      "cell_type": "markdown",
      "source": [
        "Add days of the week to taxi Df"
      ],
      "metadata": {
        "id": "KMHSC0VVocCJ"
      }
    },
    {
      "cell_type": "code",
      "source": [
        "import calendar\n",
        "\n",
        "def add_day_of_week(df):\n",
        "  df['Day_of_Week'] = df['DATE'].apply(lambda x: calendar.day_name[x.weekday()])\n",
        "  return df\n",
        "\n",
        "#Add days of the week into dataframe\n",
        "taxi_df = add_day_of_week(taxi_df)\n",
        "taxi_df.head()\n",
        "taxi_df.groupby('Day_of_Week').size()"
      ],
      "metadata": {
        "id": "tYUljlQ2ofXZ"
      },
      "execution_count": null,
      "outputs": []
    },
    {
      "cell_type": "markdown",
      "metadata": {
        "id": "odtenXz7pvjV"
      },
      "source": [
        "Display Taxi Location on Matplot based on the day of the week"
      ]
    },
    {
      "cell_type": "code",
      "execution_count": null,
      "metadata": {
        "id": "GvRGTw9ijI51"
      },
      "outputs": [],
      "source": [
        "from ipywidgets import interact\n",
        "\n",
        "import matplotlib.patches as mpatches\n",
        "\n",
        "#Plot all Taxis using a scatter plot based on their cords, colour sperated by Zones.\n",
        "def plot_data(day_of_week):\n",
        "    if(day_of_week=='All'):\n",
        "        df_day = taxi_df\n",
        "    else:\n",
        "        # Filter data for the selected day of the week\n",
        "        df_day = taxi_df[taxi_df['Day_of_Week'] == day_of_week]\n",
        "\n",
        "    # Plot the data\n",
        "    plt.figure(figsize=(150, 75))\n",
        "    plt.scatter(df_day[\"LONGITUDE\"], df_day[\"LATITUDE\"], c=df_day[\"Zone\"].astype('category').cat.codes)\n",
        "\n",
        "    # Create a legend\n",
        "    zone_names = df_day[\"Zone\"].unique()\n",
        "    color_map = plt.cm.get_cmap('viridis', len(zone_names))\n",
        "    legend_elements = [mpatches.Patch(color=color_map(i), label=zone) for i, zone in enumerate(zone_names)]\n",
        "    plt.legend(handles=legend_elements, loc='upper right',fontsize=50, title='Zone', title_fontsize='50',markerscale=10)\n",
        "\n",
        "    plt.title(f'Taxi Data for {day_of_week}')\n",
        "    plt.xlabel('Longitude',fontsize=50)\n",
        "    plt.ylabel('Latitude',fontsize=50)\n",
        "    plt.title(label=f'Number of Taxis: {len(df_day)}', fontsize=50)\n",
        "    plt.show()\n",
        "\n",
        "# Create a slider for day of the week\n",
        "days_of_week = ['All','Monday', 'Tuesday', 'Wednesday', 'Thursday', 'Friday', 'Saturday', 'Sunday']\n",
        "interact(plot_data, day_of_week=days_of_week)"
      ]
    },
    {
      "cell_type": "markdown",
      "source": [
        "Weather File clean-up"
      ],
      "metadata": {
        "id": "wJxtTe1TOdpu"
      }
    },
    {
      "cell_type": "code",
      "source": [
        "weather_df = read_pkl(\"weather_log.pkl\")\n",
        "\n",
        "def clean_weather(df):\n",
        "    # Convert the 'timestamp' column to datetime\n",
        "    df['timestamp'] = pd.to_datetime(weather_df['timestamp'])\n",
        "    df['valid_start'] = pd.to_datetime(weather_df['valid_start'])\n",
        "    df['valid_end'] = pd.to_datetime(weather_df['valid_end'])\n",
        "\n",
        "    # Create new columns 'valid_start_date', 'valid_start_time', 'valid_end_date' and 'valid_end_time' by splitting the 'valid_start' and 'valid_end' columns\n",
        "    df['weather_date'] = df['valid_start'].dt.date\n",
        "    df['weather_start_time'] = df['valid_start'].dt.time\n",
        "    df['weather_end_time'] = df['valid_end'].dt.time\n",
        "\n",
        "    # Assuming 'column_to_remove' is the name of the column you want to remove\n",
        "    df = df.drop('valid_start', axis=1)\n",
        "    df = df.drop('valid_end', axis=1)\n",
        "    df = df.drop('update_timestamp', axis=1)\n",
        "    # Remove duplicates\n",
        "    df = df.drop_duplicates()\n",
        "    # Filter rows where hour is divisible by 2 and minute is 0\n",
        "    df = df[df['weather_start_time'].apply(lambda x: x.hour % 2 == 0 and x.minute == 0)]\n",
        "    return df"
      ],
      "metadata": {
        "id": "R34gq7XmczH5"
      },
      "execution_count": null,
      "outputs": []
    }
  ],
  "metadata": {
    "colab": {
      "provenance": [],
      "include_colab_link": true
    },
    "kernelspec": {
      "display_name": "Python 3",
      "name": "python3"
    },
    "language_info": {
      "name": "python"
    }
  },
  "nbformat": 4,
  "nbformat_minor": 0
}